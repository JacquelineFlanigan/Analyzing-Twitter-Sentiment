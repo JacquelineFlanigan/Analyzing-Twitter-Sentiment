{
 "cells": [
  {
   "cell_type": "markdown",
   "metadata": {},
   "source": [
    "# Analyzing Twitter Sentiment\n"
   ]
  },
  {
   "cell_type": "markdown",
   "metadata": {},
   "source": [
    "Have you ever wondered how well a convention faired amongst the public? Well here in this notebook, we will go over real tweets that were sent out during and pertaining to the 2012 South by Southwest Festival. We will look into how people felt about the event as to gain insights on how the companies that took part can improve in the future."
   ]
  },
  {
   "cell_type": "code",
   "execution_count": 592,
   "metadata": {},
   "outputs": [
    {
     "name": "stderr",
     "output_type": "stream",
     "text": [
      "[nltk_data] Downloading package stopwords to\n",
      "[nltk_data]     C:\\Users\\chron\\AppData\\Roaming\\nltk_data...\n",
      "[nltk_data]   Package stopwords is already up-to-date!\n",
      "[nltk_data] Downloading package punkt to\n",
      "[nltk_data]     C:\\Users\\chron\\AppData\\Roaming\\nltk_data...\n",
      "[nltk_data]   Package punkt is already up-to-date!\n",
      "[nltk_data] Downloading package wordnet to\n",
      "[nltk_data]     C:\\Users\\chron\\AppData\\Roaming\\nltk_data...\n",
      "[nltk_data]   Package wordnet is already up-to-date!\n"
     ]
    }
   ],
   "source": [
    "#importing libraries\n",
    "import numpy as np\n",
    "import pandas as pd\n",
    "import matplotlib.pyplot as plt\n",
    "import seaborn as sns\n",
    "from sklearn.model_selection import train_test_split, cross_val_score, GridSearchCV\n",
    "from sklearn.ensemble import RandomForestClassifier\n",
    "from sklearn.naive_bayes import GaussianNB\n",
    "from sklearn.metrics import plot_confusion_matrix\n",
    "from sklearn.metrics import classification_report\n",
    "from sklearn.metrics import mean_squared_error\n",
    "from sklearn.metrics import accuracy_score \n",
    "from sklearn.metrics import roc_curve, auc, roc_auc_score\n",
    "from sklearn.tree import plot_tree\n",
    "from sklearn import tree\n",
    "from six import StringIO\n",
    "from IPython.display import Image\n",
    "%matplotlib inline\n",
    "import plotly.express as px\n",
    "import nltk\n",
    "from sklearn.feature_extraction.text import CountVectorizer\n",
    "from sklearn.feature_extraction.text import TfidfVectorizer\n",
    "from sklearn.feature_extraction.text import TfidfTransformer\n",
    "from nltk.probability import FreqDist\n",
    "from nltk.corpus import stopwords\n",
    "from nltk.stem import PorterStemmer\n",
    "from sklearn import metrics\n",
    "from matplotlib import cm\n",
    "from sklearn.metrics import confusion_matrix\n",
    "from sklearn.naive_bayes import MultinomialNB\n",
    "from nltk.tokenize import RegexpTokenizer\n",
    "from nltk.stem import WordNetLemmatizer\n",
    "import string\n",
    "#import spacy\n",
    "\n",
    "nltk.download('stopwords')\n",
    "nltk.download('punkt')\n",
    "nltk.download('wordnet')\n",
    "\n",
    "import warnings\n",
    "warnings.filterwarnings('ignore')"
   ]
  },
  {
   "cell_type": "code",
   "execution_count": 593,
   "metadata": {},
   "outputs": [],
   "source": [
    "#import sys\n",
    "#!{sys.executable} -m pip install spacy\n",
    "#!{sys.executable} -m spacy download en"
   ]
  },
  {
   "cell_type": "code",
   "execution_count": 594,
   "metadata": {},
   "outputs": [],
   "source": [
    "#import spacy"
   ]
  },
  {
   "cell_type": "code",
   "execution_count": 595,
   "metadata": {},
   "outputs": [],
   "source": [
    "#!pip install pyLDAvis\n",
    "\n",
    "#import gensim\n",
    "#import gensim.corpora as corpora\n",
    "\n",
    "#import pyLDAvis\n",
    "#import pyLDAvis.gensim_models\n",
    "\n",
    "#pyLDAvis.enable_notebook()"
   ]
  },
  {
   "cell_type": "code",
   "execution_count": 596,
   "metadata": {},
   "outputs": [],
   "source": [
    "#have already downloaded spacy; only need to run it once\n",
    "#!python -m spacy download en_core_web_md "
   ]
  },
  {
   "cell_type": "code",
   "execution_count": 597,
   "metadata": {},
   "outputs": [
    {
     "data": {
      "text/html": [
       "<div>\n",
       "<style scoped>\n",
       "    .dataframe tbody tr th:only-of-type {\n",
       "        vertical-align: middle;\n",
       "    }\n",
       "\n",
       "    .dataframe tbody tr th {\n",
       "        vertical-align: top;\n",
       "    }\n",
       "\n",
       "    .dataframe thead th {\n",
       "        text-align: right;\n",
       "    }\n",
       "</style>\n",
       "<table border=\"1\" class=\"dataframe\">\n",
       "  <thead>\n",
       "    <tr style=\"text-align: right;\">\n",
       "      <th></th>\n",
       "      <th>tweet_text</th>\n",
       "      <th>emotion_in_tweet_is_directed_at</th>\n",
       "      <th>is_there_an_emotion_directed_at_a_brand_or_product</th>\n",
       "    </tr>\n",
       "  </thead>\n",
       "  <tbody>\n",
       "    <tr>\n",
       "      <th>0</th>\n",
       "      <td>.@wesley83 I have a 3G iPhone. After 3 hrs twe...</td>\n",
       "      <td>iPhone</td>\n",
       "      <td>Negative emotion</td>\n",
       "    </tr>\n",
       "    <tr>\n",
       "      <th>1</th>\n",
       "      <td>@jessedee Know about @fludapp ? Awesome iPad/i...</td>\n",
       "      <td>iPad or iPhone App</td>\n",
       "      <td>Positive emotion</td>\n",
       "    </tr>\n",
       "    <tr>\n",
       "      <th>2</th>\n",
       "      <td>@swonderlin Can not wait for #iPad 2 also. The...</td>\n",
       "      <td>iPad</td>\n",
       "      <td>Positive emotion</td>\n",
       "    </tr>\n",
       "    <tr>\n",
       "      <th>3</th>\n",
       "      <td>@sxsw I hope this year's festival isn't as cra...</td>\n",
       "      <td>iPad or iPhone App</td>\n",
       "      <td>Negative emotion</td>\n",
       "    </tr>\n",
       "    <tr>\n",
       "      <th>4</th>\n",
       "      <td>@sxtxstate great stuff on Fri #SXSW: Marissa M...</td>\n",
       "      <td>Google</td>\n",
       "      <td>Positive emotion</td>\n",
       "    </tr>\n",
       "    <tr>\n",
       "      <th>...</th>\n",
       "      <td>...</td>\n",
       "      <td>...</td>\n",
       "      <td>...</td>\n",
       "    </tr>\n",
       "    <tr>\n",
       "      <th>9088</th>\n",
       "      <td>Ipad everywhere. #SXSW {link}</td>\n",
       "      <td>iPad</td>\n",
       "      <td>Positive emotion</td>\n",
       "    </tr>\n",
       "    <tr>\n",
       "      <th>9089</th>\n",
       "      <td>Wave, buzz... RT @mention We interrupt your re...</td>\n",
       "      <td>NaN</td>\n",
       "      <td>No emotion toward brand or product</td>\n",
       "    </tr>\n",
       "    <tr>\n",
       "      <th>9090</th>\n",
       "      <td>Google's Zeiger, a physician never reported po...</td>\n",
       "      <td>NaN</td>\n",
       "      <td>No emotion toward brand or product</td>\n",
       "    </tr>\n",
       "    <tr>\n",
       "      <th>9091</th>\n",
       "      <td>Some Verizon iPhone customers complained their...</td>\n",
       "      <td>NaN</td>\n",
       "      <td>No emotion toward brand or product</td>\n",
       "    </tr>\n",
       "    <tr>\n",
       "      <th>9092</th>\n",
       "      <td>Ï¡Ïàü_ÊÎÒ£Áââ_£â_ÛâRT @...</td>\n",
       "      <td>NaN</td>\n",
       "      <td>No emotion toward brand or product</td>\n",
       "    </tr>\n",
       "  </tbody>\n",
       "</table>\n",
       "<p>9093 rows × 3 columns</p>\n",
       "</div>"
      ],
      "text/plain": [
       "                                             tweet_text  \\\n",
       "0     .@wesley83 I have a 3G iPhone. After 3 hrs twe...   \n",
       "1     @jessedee Know about @fludapp ? Awesome iPad/i...   \n",
       "2     @swonderlin Can not wait for #iPad 2 also. The...   \n",
       "3     @sxsw I hope this year's festival isn't as cra...   \n",
       "4     @sxtxstate great stuff on Fri #SXSW: Marissa M...   \n",
       "...                                                 ...   \n",
       "9088                      Ipad everywhere. #SXSW {link}   \n",
       "9089  Wave, buzz... RT @mention We interrupt your re...   \n",
       "9090  Google's Zeiger, a physician never reported po...   \n",
       "9091  Some Verizon iPhone customers complained their...   \n",
       "9092  Ï¡Ïàü_ÊÎÒ£Áââ_£â_ÛâRT @...   \n",
       "\n",
       "     emotion_in_tweet_is_directed_at  \\\n",
       "0                             iPhone   \n",
       "1                 iPad or iPhone App   \n",
       "2                               iPad   \n",
       "3                 iPad or iPhone App   \n",
       "4                             Google   \n",
       "...                              ...   \n",
       "9088                            iPad   \n",
       "9089                             NaN   \n",
       "9090                             NaN   \n",
       "9091                             NaN   \n",
       "9092                             NaN   \n",
       "\n",
       "     is_there_an_emotion_directed_at_a_brand_or_product  \n",
       "0                                      Negative emotion  \n",
       "1                                      Positive emotion  \n",
       "2                                      Positive emotion  \n",
       "3                                      Negative emotion  \n",
       "4                                      Positive emotion  \n",
       "...                                                 ...  \n",
       "9088                                   Positive emotion  \n",
       "9089                 No emotion toward brand or product  \n",
       "9090                 No emotion toward brand or product  \n",
       "9091                 No emotion toward brand or product  \n",
       "9092                 No emotion toward brand or product  \n",
       "\n",
       "[9093 rows x 3 columns]"
      ]
     },
     "execution_count": 597,
     "metadata": {},
     "output_type": "execute_result"
    }
   ],
   "source": [
    "data = pd.read_csv('judge-1377884607_tweet_product_company.csv', encoding= 'unicode_escape')\n",
    "data"
   ]
  },
  {
   "cell_type": "code",
   "execution_count": 598,
   "metadata": {},
   "outputs": [],
   "source": [
    "#renaming columns\n",
    "data = data.rename(columns = {'tweet_text': 'Tweet_Text', 'emotion_in_tweet_is_directed_at': 'Subject that Tweet is Directed At', 'is_there_an_emotion_directed_at_a_brand_or_product': 'Emotion_of_Tweet'}, inplace = False)"
   ]
  },
  {
   "cell_type": "code",
   "execution_count": 599,
   "metadata": {},
   "outputs": [
    {
     "data": {
      "text/html": [
       "<div>\n",
       "<style scoped>\n",
       "    .dataframe tbody tr th:only-of-type {\n",
       "        vertical-align: middle;\n",
       "    }\n",
       "\n",
       "    .dataframe tbody tr th {\n",
       "        vertical-align: top;\n",
       "    }\n",
       "\n",
       "    .dataframe thead th {\n",
       "        text-align: right;\n",
       "    }\n",
       "</style>\n",
       "<table border=\"1\" class=\"dataframe\">\n",
       "  <thead>\n",
       "    <tr style=\"text-align: right;\">\n",
       "      <th></th>\n",
       "      <th>Tweet_Text</th>\n",
       "      <th>Emotion_of_Tweet</th>\n",
       "    </tr>\n",
       "  </thead>\n",
       "  <tbody>\n",
       "    <tr>\n",
       "      <th>0</th>\n",
       "      <td>.@wesley83 I have a 3G iPhone. After 3 hrs twe...</td>\n",
       "      <td>Negative emotion</td>\n",
       "    </tr>\n",
       "    <tr>\n",
       "      <th>1</th>\n",
       "      <td>@jessedee Know about @fludapp ? Awesome iPad/i...</td>\n",
       "      <td>Positive emotion</td>\n",
       "    </tr>\n",
       "    <tr>\n",
       "      <th>2</th>\n",
       "      <td>@swonderlin Can not wait for #iPad 2 also. The...</td>\n",
       "      <td>Positive emotion</td>\n",
       "    </tr>\n",
       "    <tr>\n",
       "      <th>3</th>\n",
       "      <td>@sxsw I hope this year's festival isn't as cra...</td>\n",
       "      <td>Negative emotion</td>\n",
       "    </tr>\n",
       "    <tr>\n",
       "      <th>4</th>\n",
       "      <td>@sxtxstate great stuff on Fri #SXSW: Marissa M...</td>\n",
       "      <td>Positive emotion</td>\n",
       "    </tr>\n",
       "    <tr>\n",
       "      <th>...</th>\n",
       "      <td>...</td>\n",
       "      <td>...</td>\n",
       "    </tr>\n",
       "    <tr>\n",
       "      <th>9088</th>\n",
       "      <td>Ipad everywhere. #SXSW {link}</td>\n",
       "      <td>Positive emotion</td>\n",
       "    </tr>\n",
       "    <tr>\n",
       "      <th>9089</th>\n",
       "      <td>Wave, buzz... RT @mention We interrupt your re...</td>\n",
       "      <td>No emotion toward brand or product</td>\n",
       "    </tr>\n",
       "    <tr>\n",
       "      <th>9090</th>\n",
       "      <td>Google's Zeiger, a physician never reported po...</td>\n",
       "      <td>No emotion toward brand or product</td>\n",
       "    </tr>\n",
       "    <tr>\n",
       "      <th>9091</th>\n",
       "      <td>Some Verizon iPhone customers complained their...</td>\n",
       "      <td>No emotion toward brand or product</td>\n",
       "    </tr>\n",
       "    <tr>\n",
       "      <th>9092</th>\n",
       "      <td>Ï¡Ïàü_ÊÎÒ£Áââ_£â_ÛâRT @...</td>\n",
       "      <td>No emotion toward brand or product</td>\n",
       "    </tr>\n",
       "  </tbody>\n",
       "</table>\n",
       "<p>9093 rows × 2 columns</p>\n",
       "</div>"
      ],
      "text/plain": [
       "                                             Tweet_Text  \\\n",
       "0     .@wesley83 I have a 3G iPhone. After 3 hrs twe...   \n",
       "1     @jessedee Know about @fludapp ? Awesome iPad/i...   \n",
       "2     @swonderlin Can not wait for #iPad 2 also. The...   \n",
       "3     @sxsw I hope this year's festival isn't as cra...   \n",
       "4     @sxtxstate great stuff on Fri #SXSW: Marissa M...   \n",
       "...                                                 ...   \n",
       "9088                      Ipad everywhere. #SXSW {link}   \n",
       "9089  Wave, buzz... RT @mention We interrupt your re...   \n",
       "9090  Google's Zeiger, a physician never reported po...   \n",
       "9091  Some Verizon iPhone customers complained their...   \n",
       "9092  Ï¡Ïàü_ÊÎÒ£Áââ_£â_ÛâRT @...   \n",
       "\n",
       "                        Emotion_of_Tweet  \n",
       "0                       Negative emotion  \n",
       "1                       Positive emotion  \n",
       "2                       Positive emotion  \n",
       "3                       Negative emotion  \n",
       "4                       Positive emotion  \n",
       "...                                  ...  \n",
       "9088                    Positive emotion  \n",
       "9089  No emotion toward brand or product  \n",
       "9090  No emotion toward brand or product  \n",
       "9091  No emotion toward brand or product  \n",
       "9092  No emotion toward brand or product  \n",
       "\n",
       "[9093 rows x 2 columns]"
      ]
     },
     "execution_count": 599,
     "metadata": {},
     "output_type": "execute_result"
    }
   ],
   "source": [
    "#dropping Subject that Tweet is Directed at since over half the entries are empty\n",
    "data.drop(axis=1, columns='Subject that Tweet is Directed At', inplace=True)\n",
    "data"
   ]
  },
  {
   "cell_type": "code",
   "execution_count": 600,
   "metadata": {},
   "outputs": [],
   "source": [
    "#dropping the one row that has missing values\n",
    "data.dropna(inplace=True)"
   ]
  },
  {
   "cell_type": "code",
   "execution_count": 601,
   "metadata": {},
   "outputs": [
    {
     "data": {
      "text/html": [
       "<div>\n",
       "<style scoped>\n",
       "    .dataframe tbody tr th:only-of-type {\n",
       "        vertical-align: middle;\n",
       "    }\n",
       "\n",
       "    .dataframe tbody tr th {\n",
       "        vertical-align: top;\n",
       "    }\n",
       "\n",
       "    .dataframe thead th {\n",
       "        text-align: right;\n",
       "    }\n",
       "</style>\n",
       "<table border=\"1\" class=\"dataframe\">\n",
       "  <thead>\n",
       "    <tr style=\"text-align: right;\">\n",
       "      <th></th>\n",
       "      <th>Tweet_Text</th>\n",
       "      <th>Emotion_of_Tweet</th>\n",
       "    </tr>\n",
       "  </thead>\n",
       "  <tbody>\n",
       "    <tr>\n",
       "      <th>1</th>\n",
       "      <td>@jessedee Know about @fludapp ? Awesome iPad/i...</td>\n",
       "      <td>Positive emotion</td>\n",
       "    </tr>\n",
       "    <tr>\n",
       "      <th>2</th>\n",
       "      <td>@swonderlin Can not wait for #iPad 2 also. The...</td>\n",
       "      <td>Positive emotion</td>\n",
       "    </tr>\n",
       "    <tr>\n",
       "      <th>4</th>\n",
       "      <td>@sxtxstate great stuff on Fri #SXSW: Marissa M...</td>\n",
       "      <td>Positive emotion</td>\n",
       "    </tr>\n",
       "    <tr>\n",
       "      <th>7</th>\n",
       "      <td>#SXSW is just starting, #CTIA is around the co...</td>\n",
       "      <td>Positive emotion</td>\n",
       "    </tr>\n",
       "    <tr>\n",
       "      <th>8</th>\n",
       "      <td>Beautifully smart and simple idea RT @madebyma...</td>\n",
       "      <td>Positive emotion</td>\n",
       "    </tr>\n",
       "    <tr>\n",
       "      <th>...</th>\n",
       "      <td>...</td>\n",
       "      <td>...</td>\n",
       "    </tr>\n",
       "    <tr>\n",
       "      <th>8973</th>\n",
       "      <td>Google guy at #sxsw talk is explaining how he ...</td>\n",
       "      <td>Negative emotion</td>\n",
       "    </tr>\n",
       "    <tr>\n",
       "      <th>8981</th>\n",
       "      <td>I think my effing hubby is in line for an #iPa...</td>\n",
       "      <td>Negative emotion</td>\n",
       "    </tr>\n",
       "    <tr>\n",
       "      <th>9008</th>\n",
       "      <td>I'm pretty sure the panelist that thinks &amp;quot...</td>\n",
       "      <td>Negative emotion</td>\n",
       "    </tr>\n",
       "    <tr>\n",
       "      <th>9043</th>\n",
       "      <td>Hey is anyone doing #sxsw signing up for the g...</td>\n",
       "      <td>Negative emotion</td>\n",
       "    </tr>\n",
       "    <tr>\n",
       "      <th>9080</th>\n",
       "      <td>Diller says Google TV &amp;quot;might be run over ...</td>\n",
       "      <td>Negative emotion</td>\n",
       "    </tr>\n",
       "  </tbody>\n",
       "</table>\n",
       "<p>3548 rows × 2 columns</p>\n",
       "</div>"
      ],
      "text/plain": [
       "                                             Tweet_Text  Emotion_of_Tweet\n",
       "1     @jessedee Know about @fludapp ? Awesome iPad/i...  Positive emotion\n",
       "2     @swonderlin Can not wait for #iPad 2 also. The...  Positive emotion\n",
       "4     @sxtxstate great stuff on Fri #SXSW: Marissa M...  Positive emotion\n",
       "7     #SXSW is just starting, #CTIA is around the co...  Positive emotion\n",
       "8     Beautifully smart and simple idea RT @madebyma...  Positive emotion\n",
       "...                                                 ...               ...\n",
       "8973  Google guy at #sxsw talk is explaining how he ...  Negative emotion\n",
       "8981  I think my effing hubby is in line for an #iPa...  Negative emotion\n",
       "9008  I'm pretty sure the panelist that thinks &quot...  Negative emotion\n",
       "9043  Hey is anyone doing #sxsw signing up for the g...  Negative emotion\n",
       "9080  Diller says Google TV &quot;might be run over ...  Negative emotion\n",
       "\n",
       "[3548 rows x 2 columns]"
      ]
     },
     "execution_count": 601,
     "metadata": {},
     "output_type": "execute_result"
    }
   ],
   "source": [
    "#dealing with just the positive and negative tweets\n",
    "posdata = data[data['Emotion_of_Tweet'] == 'Positive emotion']\n",
    "negdata = data[data['Emotion_of_Tweet'] == 'Negative emotion']\n",
    "\n",
    "emodata  = pd.concat([posdata,negdata])\n",
    "emodata"
   ]
  },
  {
   "cell_type": "markdown",
   "metadata": {},
   "source": [
    "# Exploring Our Data"
   ]
  },
  {
   "cell_type": "code",
   "execution_count": 602,
   "metadata": {},
   "outputs": [
    {
     "data": {
      "text/plain": [
       "No emotion toward brand or product    5388\n",
       "Positive emotion                      2978\n",
       "Negative emotion                       570\n",
       "I can't tell                           156\n",
       "Name: Emotion_of_Tweet, dtype: int64"
      ]
     },
     "execution_count": 602,
     "metadata": {},
     "output_type": "execute_result"
    }
   ],
   "source": [
    "#looking at counts for the different emotions\n",
    "data.Emotion_of_Tweet.value_counts()"
   ]
  },
  {
   "cell_type": "code",
   "execution_count": 603,
   "metadata": {},
   "outputs": [],
   "source": [
    "#most frequent words for positive and negative\n",
    "posdata = data[data['Emotion_of_Tweet'] == 'Positive emotion']\n",
    "negdata = data[data['Emotion_of_Tweet'] == 'Negative emotion']\n",
    "\n",
    "data_positive = posdata['Tweet_Text']\n",
    "data_negative = negdata['Tweet_Text']\n",
    "\n",
    "#concatting the positive and negative emotions for later\n",
    "emotweet = pd.concat([data_positive,data_negative])\n",
    "\n",
    "#splitting the different emotions into seperate lists\n",
    "pos_tweets = [d.split() for d in data_positive.to_list()]\n",
    "neg_tweets = [d.split() for d in data_negative.to_list()]"
   ]
  },
  {
   "cell_type": "code",
   "execution_count": 604,
   "metadata": {},
   "outputs": [
    {
     "data": {
      "text/plain": [
       "7916"
      ]
     },
     "execution_count": 604,
     "metadata": {},
     "output_type": "execute_result"
    }
   ],
   "source": [
    "#positive word count\n",
    "pos_words = set()\n",
    "for count in pos_tweets:\n",
    "    pos_words.update([c.lower() for c in count])\n",
    "len(pos_words)"
   ]
  },
  {
   "cell_type": "code",
   "execution_count": 605,
   "metadata": {},
   "outputs": [
    {
     "data": {
      "text/plain": [
       "2846"
      ]
     },
     "execution_count": 605,
     "metadata": {},
     "output_type": "execute_result"
    }
   ],
   "source": [
    "#negative word count\n",
    "neg_words = set()\n",
    "for count in neg_tweets:\n",
    "    neg_words.update([c.lower() for c in count])\n",
    "len(neg_words)"
   ]
  },
  {
   "cell_type": "code",
   "execution_count": 606,
   "metadata": {},
   "outputs": [],
   "source": [
    "#setting up stop words here\n",
    "sw_list  = stopwords.words('english')\n",
    "sw_list += [\"''\", '\"\"', '...', '``', '’', '“', '’', '”', '‘', '‘', '©', '#', '.', ',']\n",
    "sw_list += ['-', '–', '—','rt', 'i', '2', 'the', 'get', '{link}rt', 'mention',\"i'm\", '#sxsw.']\n",
    "sw_list += ['the','&amp;','I','rt','{link}','@mention','amp', 'sxsw', '@sxswrt', '#sxswrt']\n",
    "sw_list += list(string.punctuation)\n",
    "\n",
    "sw_set = set(sw_list)"
   ]
  },
  {
   "cell_type": "code",
   "execution_count": 607,
   "metadata": {},
   "outputs": [],
   "source": [
    "#cleaning with stop words then adding into seperate lists by emotion\n",
    "cleaned_pos = [item.lower() for sublist in pos_tweets for item in sublist if item not in sw_list]\n",
    "cleaned_neg = [item.lower() for sublist in neg_tweets for item in sublist if item not in sw_list]\n",
    "\n",
    "#checking frequency of each emotion list\n",
    "pos_freq = FreqDist(cleaned_pos)\n",
    "neg_freq = FreqDist(cleaned_neg)"
   ]
  },
  {
   "cell_type": "code",
   "execution_count": 608,
   "metadata": {},
   "outputs": [
    {
     "data": {
      "text/plain": [
       "[('#sxsw', 2506),\n",
       " ('rt', 911),\n",
       " ('ipad', 793),\n",
       " ('apple', 624),\n",
       " ('google', 517),\n",
       " ('store', 448),\n",
       " ('iphone', 358),\n",
       " ('new', 357),\n",
       " ('app', 313),\n",
       " ('austin', 205)]"
      ]
     },
     "execution_count": 608,
     "metadata": {},
     "output_type": "execute_result"
    }
   ],
   "source": [
    "#checking what's the most frequent words in positive tweets\n",
    "pos_freq.most_common(10)"
   ]
  },
  {
   "cell_type": "code",
   "execution_count": 609,
   "metadata": {},
   "outputs": [
    {
     "data": {
      "image/png": "[encoded data removed]",
      "text/plain": [
       "<Figure size 360x360 with 1 Axes>"
      ]
     },
     "metadata": {
      "needs_background": "light"
     },
     "output_type": "display_data"
    },
    {
     "data": {
      "text/plain": [
       "<AxesSubplot:xlabel='Samples', ylabel='Counts'>"
      ]
     },
     "execution_count": 609,
     "metadata": {},
     "output_type": "execute_result"
    }
   ],
   "source": [
    "#plotting the positive frequencies\n",
    "plt.figure(figsize=(5,5))\n",
    "pos_freq.plot(10)"
   ]
  },
  {
   "cell_type": "code",
   "execution_count": 610,
   "metadata": {},
   "outputs": [
    {
     "data": {
      "text/plain": [
       "[('#sxsw', 512),\n",
       " ('ipad', 140),\n",
       " ('rt', 137),\n",
       " ('google', 120),\n",
       " ('iphone', 110),\n",
       " ('apple', 78),\n",
       " ('app', 43),\n",
       " ('new', 42),\n",
       " ('like', 37),\n",
       " ('store', 35)]"
      ]
     },
     "execution_count": 610,
     "metadata": {},
     "output_type": "execute_result"
    }
   ],
   "source": [
    "#checking what's the most frequent words in negative tweets\n",
    "neg_freq.most_common(10)"
   ]
  },
  {
   "cell_type": "code",
   "execution_count": 611,
   "metadata": {},
   "outputs": [
    {
     "data": {
      "image/png": "[encoded data removed]",
      "text/plain": [
       "<Figure size 360x360 with 1 Axes>"
      ]
     },
     "metadata": {
      "needs_background": "light"
     },
     "output_type": "display_data"
    },
    {
     "data": {
      "text/plain": [
       "<AxesSubplot:xlabel='Samples', ylabel='Counts'>"
      ]
     },
     "execution_count": 611,
     "metadata": {},
     "output_type": "execute_result"
    }
   ],
   "source": [
    "#plotting the negative frequencies\n",
    "plt.figure(figsize=(5,5))\n",
    "neg_freq.plot(10)"
   ]
  },
  {
   "cell_type": "markdown",
   "metadata": {},
   "source": [
    "In regards to the most frequent words for both the positive and negative tweets, there seems to be a few that are present in both categories. This can make it hard to tell exactly how the event is leaning for the emotional spectrum so next we'll do some steps that will hopefully allow us to gain more insight.\n",
    "\n",
    "The next step in particular is normalizing our most frequent words, which will equalize them so that the length of the tweets don't interfere with the accuracy of how they are compared to one another."
   ]
  },
  {
   "cell_type": "code",
   "execution_count": 612,
   "metadata": {},
   "outputs": [
    {
     "name": "stdout",
     "output_type": "stream",
     "text": [
      "Word \t\t Positive Normalized Frequency\n",
      "\n",
      "#sxsw \t\t 0.07143\n",
      "rt \t\t 0.02597\n",
      "ipad \t\t 0.0226\n",
      "apple \t\t 0.01779\n",
      "google \t\t 0.01474\n",
      "store \t\t 0.01277\n",
      "iphone \t\t 0.0102\n",
      "new \t\t 0.01018\n",
      "app \t\t 0.008922\n",
      "austin \t\t 0.005844\n"
     ]
    }
   ],
   "source": [
    "pos_total_wc = sum(pos_freq.values())\n",
    "pos_top_10 = pos_freq.most_common(10)\n",
    "print(\"Word \\t\\t Positive Normalized Frequency\")\n",
    "print()\n",
    "for word in pos_top_10:\n",
    "    posnorm_freq = word[1]/pos_total_wc\n",
    "    print(\"{} \\t\\t {:.4}\".format(word[0], posnorm_freq))"
   ]
  },
  {
   "cell_type": "code",
   "execution_count": 613,
   "metadata": {},
   "outputs": [
    {
     "name": "stdout",
     "output_type": "stream",
     "text": [
      "Word \t\t Negative Normalized Frequency\n",
      "\n",
      "#sxsw \t\t 0.07427\n",
      "ipad \t\t 0.02031\n",
      "rt \t\t 0.01987\n",
      "google \t\t 0.01741\n",
      "iphone \t\t 0.01596\n",
      "apple \t\t 0.01131\n",
      "app \t\t 0.006237\n",
      "new \t\t 0.006092\n",
      "like \t\t 0.005367\n",
      "store \t\t 0.005077\n"
     ]
    }
   ],
   "source": [
    "neg_total_wc = sum(neg_freq.values())\n",
    "neg_top_10 = neg_freq.most_common(10)\n",
    "print(\"Word \\t\\t Negative Normalized Frequency\")\n",
    "print()\n",
    "for word in neg_top_10:\n",
    "    negnorm_freq = word[1]/neg_total_wc\n",
    "    print(\"{} \\t\\t {:.4}\".format(word[0], negnorm_freq))"
   ]
  },
  {
   "cell_type": "code",
   "execution_count": 614,
   "metadata": {},
   "outputs": [],
   "source": [
    "#changing the most frequent counts to dataframes to use later\n",
    "pos_10 = pd.DataFrame(pos_top_10)\n",
    "neg_10 = pd.DataFrame(neg_top_10)"
   ]
  },
  {
   "cell_type": "code",
   "execution_count": 615,
   "metadata": {},
   "outputs": [
    {
     "data": {
      "image/png": "[encoded data removed]",
      "text/plain": [
       "<Figure size 1152x288 with 2 Axes>"
      ]
     },
     "metadata": {
      "needs_background": "light"
     },
     "output_type": "display_data"
    }
   ],
   "source": [
    "#graphing our most frequent words\n",
    "pos_bar_counts = [x[1] for x in pos_freq.most_common(10)]\n",
    "pos_bar_words  = [x[0] for x in pos_freq.most_common(10)]\n",
    "\n",
    "neg_bar_counts = [x[1] for x in neg_freq.most_common(10)]\n",
    "neg_bar_words  = [x[0] for x in neg_freq.most_common(10)]\n",
    "\n",
    "color = cm.viridis_r(np.linspace(.4,.8,30))\n",
    "\n",
    "new_figure = plt.figure(figsize=(16,4))\n",
    "\n",
    "ax = new_figure.add_subplot(121)\n",
    "ax2 = new_figure.add_subplot(122)\n",
    "\n",
    "ax.bar(pos_bar_words, pos_bar_counts, color=color)\n",
    "ax2.bar(neg_bar_words, neg_bar_counts, color=color)\n",
    "\n",
    "ax.title.set_text(\"Most Frequent Words In Positive Tweets\")\n",
    "ax2.title.set_text(\"Most Frequent Words in Negative Tweets\")\n",
    "\n",
    "for ax in new_figure.axes:\n",
    "    plt.sca(ax)\n",
    "    plt.xticks(rotation=60)\n",
    "    \n",
    "plt.tight_layout(pad=0)\n",
    "\n",
    "plt.show()"
   ]
  },
  {
   "cell_type": "markdown",
   "metadata": {},
   "source": [
    "Here is a good instance in how the normalized frequencies show us a more accurate picture. Although there are the same words in both lists and graphs, we can now see how much they occur in positive/negative tweets. For instance, the word 'apple' appears more in positive tweets numerically (2% positive versus 1% negative) and the word 'google' is seen in higher quantities amongst the negative tweets. Admittedly, there percentages are not by much but this does allow us a closer look into how the companies were received during the convention more so than what a normal bar graph could do."
   ]
  },
  {
   "cell_type": "markdown",
   "metadata": {},
   "source": [
    "# Transforming Our Data"
   ]
  },
  {
   "cell_type": "markdown",
   "metadata": {},
   "source": [
    "Now that we have taken steps to clean and explore our data, we can now make a model that will allow companies in the future to rate the sentiment of real tweets about their companies and products.\n",
    "\n",
    "First thing  we'll do in to make building our model easier is lemmatization. Lemmatizing the data will ensure that the words we are returning in our model are actual words as well as cutting down plural forms to singular so as to help reduce the repetition."
   ]
  },
  {
   "cell_type": "code",
   "execution_count": 616,
   "metadata": {},
   "outputs": [],
   "source": [
    "x = emodata['Tweet_Text']\n",
    "y = emodata['Emotion_of_Tweet']"
   ]
  },
  {
   "cell_type": "code",
   "execution_count": 617,
   "metadata": {},
   "outputs": [],
   "source": [
    "#lemmatizing the data\n",
    "dataset = emodata['Tweet_Text']\n",
    "target = emodata['Emotion_of_Tweet']\n",
    "\n",
    "processed_data = [d.split() for d in dataset.to_list()]\n",
    "\n",
    "lemmatizer = WordNetLemmatizer()\n",
    "lemmatized_output = []\n",
    "\n",
    "for lists in processed_data:\n",
    "    changedlem = ' '.join([lemmatizer.lemmatize(w) for w in lists])\n",
    "    lemmatized_output.append(changedlem)"
   ]
  },
  {
   "cell_type": "code",
   "execution_count": 618,
   "metadata": {},
   "outputs": [],
   "source": [
    "x_lem = lemmatized_output\n",
    "y_lem = target"
   ]
  },
  {
   "cell_type": "markdown",
   "metadata": {},
   "source": [
    "Next is TF-IDF (or otherwise known as term frequency - inverse document frequency), which help us show how relevant a word is to the tweet. For instance, we have already done the frequencies of the words for both emotions, but TF-IDF will allow us to look at words that are more unique but still contribute significantly to the over all feel of the message. This will allow us to see which words may be more important and help fine tune which are problematic/exceptional."
   ]
  },
  {
   "cell_type": "code",
   "execution_count": 619,
   "metadata": {},
   "outputs": [
    {
     "data": {
      "text/plain": [
       "<2838x5198 sparse matrix of type '<class 'numpy.float64'>'\n",
       "\twith 27902 stored elements in Compressed Sparse Row format>"
      ]
     },
     "execution_count": 619,
     "metadata": {},
     "output_type": "execute_result"
    }
   ],
   "source": [
    "#now using TF-IDF with lemmatized data\n",
    "x_train_lem, x_test_lem, y_train_lem, y_test_lem = train_test_split(x_lem, y_lem, test_size=0.20, random_state=1)\n",
    "\n",
    "tfidf = TfidfVectorizer(stop_words=sw_set)\n",
    "\n",
    "tfidf_data_train_lem = tfidf.fit_transform(x_train_lem)\n",
    "tfidf_data_test_lem  = tfidf.transform(x_test_lem)\n",
    "\n",
    "tfidf_data_train_lem"
   ]
  },
  {
   "cell_type": "code",
   "execution_count": 620,
   "metadata": {},
   "outputs": [
    {
     "name": "stdout",
     "output_type": "stream",
     "text": [
      "Average Number of Non-Zero Elements in Vectorized Articles: 9.831571529245949\n",
      "Percentage of columns containing ZERO: 0.9981085857004144\n"
     ]
    }
   ],
   "source": [
    "non_zero_cols = tfidf_data_train_lem.nnz / float(tfidf_data_train_lem.shape[0])\n",
    "print(\"Average Number of Non-Zero Elements in Vectorized Articles: {}\".format(non_zero_cols))\n",
    "\n",
    "percent_sparse = 1 - (non_zero_cols / float(tfidf_data_train_lem.shape[1]))\n",
    "print('Percentage of columns containing ZERO: {}'.format(percent_sparse))"
   ]
  },
  {
   "cell_type": "markdown",
   "metadata": {},
   "source": [
    "After using the lemmatized data with TF-IDF, we can see with the sparse matrix that we now have 2,838 rows of text with 5,198 columns (or words in this case). In addition, we have the next output which tells us that the average word length of each tweet is only on average about nine to ten words long. There is also the fact that 99% of columns contain zero means that there are a lot of unique words throughout the tweets.\n",
    "\n",
    "This could tell us that the tweets in this particular dataset are not very long, but are very distinctive from one another. We could infer that the people that are tweeting are just putting their first thoughts out and are not looking into event too closely. Or this could mean that people are not wanting to go into great detail about the event. It is hard to say for sure at this moment, but it should be mentioned that Twitter does have a limitation on how long a tweet can be so that should also be taken into account. We'll continue to transform our data so that we can get a more accurate picture."
   ]
  },
  {
   "cell_type": "code",
   "execution_count": null,
   "metadata": {},
   "outputs": [],
   "source": [
    "#Using Spacy to transform the data to see if that changes our modeling results\n",
    "\n",
    "nlp = spacy.load('en_core_web_md')\n",
    "data['spacy'] = data.Tweet_Text.apply(lambda x: nlp(x))\n",
    "\n",
    "spacy_tweet = pd.DataFrame(np.vstack([x.vector for x in data.spacy]))\n",
    "spacey_emotion = data.Emotion_of_Tweet\n",
    "\n",
    "spacey_emotion.loc[(spacey_emotion == \"Negative emotion\")] = -1\n",
    "spacey_emotion.loc[(spacey_emotion == \"No emotion toward brand or product\")] = 0\n",
    "spacey_emotion.loc[(spacey_emotion == \"I can't tell\")] = 0\n",
    "spacey_emotion.loc[(spacey_emotion == \"Positive emotion\")] =  1\n",
    "\n",
    "spacey_emotion = spacey_emotion.astype(int)\n",
    "\n",
    "#Train-Test-Split\n",
    "x_spacy_train, x_spacy_test, y_spacy_train, y_spacy_test = train_test_split(spacy_tweet, spacey_emotion, test_size=0.20, random_state=1)"
   ]
  },
  {
   "cell_type": "markdown",
   "metadata": {},
   "source": [
    "In the code above, we've implemented Spacy onto our raw dataset so that we can compare it to our lemmatized and TF-IDF dataset. We will put both sets into our models below and this will show us if our cleaning of the code manually is the better/more efficient way or if perhaps the Spacy library is. What Spacy does for us is tokenizes our tweet text data as well as offers other additional features to understand large volumes of text. Next step, modeling!"
   ]
  },
  {
   "cell_type": "markdown",
   "metadata": {},
   "source": [
    "# Modeling Our Data"
   ]
  },
  {
   "cell_type": "code",
   "execution_count": null,
   "metadata": {},
   "outputs": [],
   "source": [
    "#try random forest model first\n",
    "ranfor_lem = RandomForestClassifier(n_estimators=100, random_state=0)\n",
    "\n",
    "ranfor_lem.fit(tfidf_data_train_lem, y_train_lem)\n",
    "\n",
    "ranfor_train_preds_lem = ranfor_lem.predict(tfidf_data_train_lem)\n",
    "ranfor_test_preds_lem = ranfor_lem.predict(tfidf_data_test_lem)\n",
    "\n",
    "print('Classification Report: Train Set \\n')\n",
    "print(classification_report(y_train_lem, ranfor_train_preds_lem))\n",
    "print('Classification Report: Test Set \\n')\n",
    "print(classification_report(y_test_lem, ranfor_test_preds_lem))\n",
    "\n",
    "#confusion matrices\n",
    "fig, (ax0, ax1) = plt.subplots(1, 2, figsize=(20,8))\n",
    "                               \n",
    "plot_confusion_matrix(ranfor_lem, tfidf_data_train_lem, y_train_lem, ax=ax0)\n",
    "plot_confusion_matrix(ranfor_lem, tfidf_data_test_lem, y_test_lem, ax=ax1)\n",
    "\n",
    "ax0.title.set_text('Train Confusion Matrix')\n",
    "ax1.title.set_text('Test Confusion Matrix')\n",
    "\n",
    "plt.show()"
   ]
  },
  {
   "cell_type": "markdown",
   "metadata": {},
   "source": [
    "The model we tried first was Random Forest since it has the feature importance attribute, which will be a big help in indicating exactly what companies need to pay attention to. \n",
    "\n",
    "Here with this model, we ran our manually edited dataset with it and the results weren't perfect, but not bad. We can see across accuracy, precision, recall and f-1 scores that this model had some hiccups, but wasn't too unreliable in predicting whether a tweet was negative or positive. We will keep this in mind when going through our next set of models."
   ]
  },
  {
   "cell_type": "code",
   "execution_count": null,
   "metadata": {
    "scrolled": false
   },
   "outputs": [],
   "source": [
    "#now random forest with spacy\n",
    "\n",
    "ranfor_spacy = RandomForestClassifier(n_estimators=100, random_state=0)\n",
    "\n",
    "ranfor_spacy.fit(x_spacy_train, y_spacy_train)\n",
    "\n",
    "ranfor_train_preds_spacy = ranfor_spacy.predict(x_spacy_train)\n",
    "ranfor_test_preds_spacy = ranfor_spacy.predict(x_spacy_test)\n",
    "\n",
    "print('Classification Report: Train Set \\n')\n",
    "print(classification_report(y_spacy_train, ranfor_train_preds_spacy))\n",
    "print('Classification Report: Test Set \\n')\n",
    "print(classification_report(y_spacy_test, ranfor_test_preds_spacy))\n",
    "\n",
    "#confusion matrices\n",
    "fig, (ax0, ax1) = plt.subplots(1, 2, figsize=(20,8))\n",
    "                               \n",
    "plot_confusion_matrix(ranfor_spacy, x_spacy_train, y_spacy_train, ax=ax0)\n",
    "plot_confusion_matrix(ranfor_spacy, x_spacy_test, y_spacy_test, ax=ax1)\n",
    "\n",
    "ax0.title.set_text('Train Confusion Matrix')\n",
    "ax1.title.set_text('Test Confusion Matrix')\n",
    "\n",
    "plt.show()"
   ]
  },
  {
   "cell_type": "markdown",
   "metadata": {},
   "source": [
    "This next Random Forest model was run with the Spacy dataset with less favorable results than the first. However, it's worth noting that this model has run with all of our data, including the neutral tweets that were not part of the manually sorted data created earlier. So if were are to use this model with this particular data, it is perhaps a better model for companies who are interested in the full spectrum of emotion, including apathy."
   ]
  },
  {
   "cell_type": "code",
   "execution_count": null,
   "metadata": {},
   "outputs": [],
   "source": [
    "#now gnb to see if it does any better\n",
    "#first without Spacy data\n",
    "\n",
    "gnb = GaussianNB()\n",
    "\n",
    "train = tfidf_data_train_lem.toarray()\n",
    "test  = tfidf_data_test_lem.toarray()\n",
    "\n",
    "gnb.fit(train, y_train_lem)\n",
    "\n",
    "gnb_train_preds_lem = gnb.predict(train)\n",
    "gnb_test_preds_lem  = gnb.predict(test)\n",
    "\n",
    "print('Classification Report: Train Set \\n')\n",
    "print(classification_report(y_train_lem, gnb_train_preds_lem))\n",
    "print('Classification Report: Test Set \\n')\n",
    "print(classification_report(y_test_lem, gnb_test_preds_lem))\n",
    "\n",
    "\n",
    "#confusion matrices\n",
    "fig, (ax0, ax1) = plt.subplots(1, 2, figsize=(20,8))\n",
    "                               \n",
    "plot_confusion_matrix(gnb, train, y_train_lem, ax=ax0)\n",
    "plot_confusion_matrix(gnb, test, y_test_lem, ax=ax1)\n",
    "\n",
    "ax0.title.set_text('Train Confusion Matrix')\n",
    "ax1.title.set_text('Test Confusion Matrix')\n",
    "\n",
    "plt.show()"
   ]
  },
  {
   "cell_type": "markdown",
   "metadata": {},
   "source": [
    "Our next model is the Gaussian Naive Bayes, or gnb for short, which typically do well with classifications. Here with our specially assembled dataset, we can see that so far the Random Forest model is having better luck across the board. There are lower accuracy, precision, recall and f-1 scores in comparison but this is still a good model to try since gnb models are suited for multiple class predictions. "
   ]
  },
  {
   "cell_type": "code",
   "execution_count": null,
   "metadata": {},
   "outputs": [],
   "source": [
    "#now with Spacy data\n",
    "\n",
    "gnb_spacy = GaussianNB()\n",
    "\n",
    "gnb_spacy.fit(x_spacy_train, y_spacy_train)\n",
    "\n",
    "gnb_train_preds_spacy = gnb_spacy.predict(x_spacy_train)\n",
    "gnb_test_preds_spacy = gnb_spacy.predict(x_spacy_test)\n",
    "\n",
    "print('Classification Report: Train Set \\n')\n",
    "print(classification_report(y_spacy_train, gnb_train_preds_spacy))\n",
    "print('Classification Report: Test Set \\n')\n",
    "print(classification_report(y_spacy_test, gnb_test_preds_spacy))\n",
    "\n",
    "#confusion matrices\n",
    "fig, (ax0, ax1) = plt.subplots(1, 2, figsize=(20,8))\n",
    "                               \n",
    "plot_confusion_matrix(gnb_spacy, x_spacy_train, y_spacy_train, ax=ax0)\n",
    "plot_confusion_matrix(gnb_spacy, x_spacy_test, y_spacy_test, ax=ax1)\n",
    "\n",
    "ax0.title.set_text('Train Confusion Matrix')\n",
    "ax1.title.set_text('Test Confusion Matrix')\n",
    "\n",
    "plt.show()"
   ]
  },
  {
   "cell_type": "markdown",
   "metadata": {},
   "source": [
    "Our final model is once again gnb but with our Spacy data. Like it's Random Forest Spacy counterpart, it also performed worse but again, did deal with neutral tweets in addition to positive and negative. The scores are still not that impressive however, which indicates that this is probably not the model for us. At least, in this time and scenario. "
   ]
  },
  {
   "cell_type": "markdown",
   "metadata": {},
   "source": [
    "# Conclusions"
   ]
  },
  {
   "cell_type": "markdown",
   "metadata": {},
   "source": [
    "After running a few models with different categorized datasets, the one model that could help companies in the future fine tune their products/systems to better appease the public is our Random Forest model. In this scenario as well, since we really want to focus on the positive and negative tweets, this will mean we recommend not using Spacy as without it, the model is better at understanding the data. Especially when focusing on the f-1 scores, since they allow us to have a good balance between recall and precision. \n",
    "\n",
    "In addition, as shown below, the feature importances will allow companies to really hone in on which aspects of their companies/products that the public like and dislike."
   ]
  },
  {
   "cell_type": "code",
   "execution_count": null,
   "metadata": {},
   "outputs": [],
   "source": [
    "#do feature importances here on random forest without spacy\n",
    "fig, ((ax, ax2), (ax3, ax4)) = plt.subplots(nrows=2, ncols=2, figsize=(10,10))\n",
    "color = cm.viridis_r(np.linspace(.4,.8,30))\n",
    "ax.barh(pos_10[0], pos_10[1], color=color)\n",
    "ax2.barh(pos_10[0], ranfor_lem.feature_importances_[:10], color=color)\n",
    "ax3.barh(neg_10[0], neg_10[1], color=color)\n",
    "ax4.barh(neg_10[0], ranfor_lem.feature_importances_[:10], color=color)\n",
    "ax.plot(colormap='PRGn')\n",
    "ax.title.set_text('Top 25 Positive Words')\n",
    "ax2.title.set_text('Positive Feature Importances')\n",
    "ax3.title.set_text('Top 25 Negative Words')\n",
    "ax4.title.set_text('Negative Feature Importances')\n",
    "plt.tight_layout(pad=0)\n",
    "plt.show()"
   ]
  },
  {
   "cell_type": "markdown",
   "metadata": {},
   "source": [
    "These graphs indicate that for the 2012 South by Southwest Festival, iPhones were positively received from the public. In future conventions, Apple should feature more products like the iPhone. However, it was not all great for Apple since the company name did feature heavily in the negative tweets as well. \n",
    "\n",
    "A recommendation for Apple would be to improve on the company's public image before the next event so that they are rated as highly as their products. In addition to Apple, Google should also enhance their internet presence/services or otherwise they may find themselves not part of the next convention. "
   ]
  }
 ],
 "metadata": {
  "kernelspec": {
   "display_name": "Python 3",
   "language": "python",
   "name": "python3"
  },
  "language_info": {
   "codemirror_mode": {
    "name": "ipython",
    "version": 3
   },
   "file_extension": ".py",
   "mimetype": "text/x-python",
   "name": "python",
   "nbconvert_exporter": "python",
   "pygments_lexer": "ipython3",
   "version": "3.8.5"
  },
  "toc": {
   "base_numbering": 1,
   "nav_menu": {},
   "number_sections": true,
   "sideBar": true,
   "skip_h1_title": true,
   "title_cell": "Table of Contents",
   "title_sidebar": "Contents",
   "toc_cell": false,
   "toc_position": {},
   "toc_section_display": true,
   "toc_window_display": false
  },
  "varInspector": {
   "cols": {
    "lenName": 16,
    "lenType": 16,
    "lenVar": 40
   },
   "kernels_config": {
    "python": {
     "delete_cmd_postfix": "",
     "delete_cmd_prefix": "del ",
     "library": "var_list.py",
     "varRefreshCmd": "print(var_dic_list())"
    },
    "r": {
     "delete_cmd_postfix": ") ",
     "delete_cmd_prefix": "rm(",
     "library": "var_list.r",
     "varRefreshCmd": "cat(var_dic_list()) "
    }
   },
   "types_to_exclude": [
    "module",
    "function",
    "builtin_function_or_method",
    "instance",
    "_Feature"
   ],
   "window_display": false
  }
 },
 "nbformat": 4,
 "nbformat_minor": 4
}
